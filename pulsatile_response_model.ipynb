{
 "cells": [
  {
   "cell_type": "code",
   "execution_count": 25,
   "id": "68cdbfe4",
   "metadata": {},
   "outputs": [],
   "source": [
    "from scipy import integrate\n",
    "import numpy as np\n",
    "k = {\n",
    "    'k1_xcribe_luxr': 1,\n",
    "    'k2_xcribe_luxr': 1,\n",
    "    'k_dec_mrna_luxr': 1,\n",
    "    'k1_xlate_luxr': 1,\n",
    "    'k2_xlate_luxr': 1,\n",
    "    'k_dec_luxr': 1,\n",
    "    'k_ext_diff_AHL': 1,\n",
    "    'k_int_diff_AHL': 1,\n",
    "    'k_dec_AHL': 1,\n",
    "    'k_dim_luxr': 1,\n",
    "    'k_sngl_luxr2': 1,\n",
    "    'k_dec_luxr2': 1,\n",
    "    'k_assoc_luxr2': 1,\n",
    "    'k_dissoc_luxr2': 1,\n",
    "    'k_decay_luxr2': 1,\n",
    "    'k1_xcribe_gfp': 1,\n",
    "    'k1_xcribe_leak_gfp': 1,\n",
    "    'k2_xcribe_gfp': 1,\n",
    "    'k_dec_mrna_gfp': 1,\n",
    "    'k1_xlate_gfp': 1,\n",
    "    'k2_xlate_gfp': 1,\n",
    "    'k_dec_gfp': 1,\n",
    "    'k1_xcribe_CI': 1,\n",
    "    'k1_xcribe_leak_CI': 1,\n",
    "    'k2_xcribe_CI': 1,\n",
    "    'k_dec_mrna_CI': 1,\n",
    "    'k1_xlate_CI': 1,\n",
    "    'k2_xlate_CI': 1,\n",
    "    'k_dec_CI': 1,\n",
    "    'k_dim_CI': 1,\n",
    "    'k_sngl_CI2': 1,\n",
    "    'k_dec_CI2': 1,\n",
    "    'k_assoc_CI2': 1,\n",
    "    'k_dissoc_CI2': 1,\n",
    "    'k_decay_CI2': 1,\n",
    "}\n",
    "\n",
    "def pulse_response_ode(U, t, P_Ltet0_1):\n",
    "    dRNAp = -k['k1_xcribe_luxr'] * U[0] * P_Ltet0_1 + k['k2_xcribe_luxr'] * U[1] - k['k1_xcribe_gfp'] * U[0] * U[9] - k['k1_xcribe_leak_gfp'] * U[0] * U[8] + k['k2_xcribe_gfp'] * U[10] - k['k1_xcribe_CI'] * U[0] * U[15] + k['k2_xcribe_CI'] * U[16]\n",
    "    dmRNA_Lux_RNAp = -k['k2_xcribe_luxr'] * U[1] + k['k1_xcribe_luxr'] * U[0] * P_Ltet0_1\n",
    "    dmRNA_Lux_R = k['k2_xcribe_luxr'] * U[1] - k['k_dec_mrna_luxr'] * U[2]\n",
    "    drRNA = -k['k1_xlate_luxr'] * U[3] * U[2] + k['k2_xlate_luxr'] * U[4] - k['k1_xlate_gfp'] * U[3] * U[11] + k['k2_xlate_gfp'] * U[12] - k['k1_xlate_CI'] * U[3] * U[17] + k['k2_xlate_CI'] * U[18]\n",
    "    dLuxR_rRNA = k['k1_xlate_luxr'] * U[3] * U[2]  - k['k2_xlate_luxr'] * U[4]\n",
    "    dLuxR = k['k2_xlate_luxr'] * U[4] - k['k_dec_luxr'] * U[5] - k['k_dim_luxr'] * U[6] ** 2 * U[5] ** 2 + 2 * k['k_sngl_luxr2'] * U[7]\n",
    "    dAHL = k['k_ext_diff_AHL'] - k['k_int_diff_AHL'] * U[6] - k['k_dec_AHL'] * U[6] - k['k_dim_luxr'] * U[6] ** 2 * U[5] ** 2 + 2 * k['k_sngl_luxr2'] * U[7]\n",
    "    dLuxR_AHL_2 = - k['k_sngl_luxr2'] * U[7] + k['k_dim_luxr'] * U[6] ** 2 * U[5] ** 2 - k['k_dec_luxr2'] * U[7] - k['k_assoc_luxr2'] * U[7] * U[8] + k['k_dissoc_luxr2'] * U[9] - k['k_assoc_luxr2'] * U[7] * U[14] - k['k_dissoc_luxr2'] * U[15]\n",
    "    dLux_PR_GFP = - k['k_assoc_luxr2'] * U[7] * U[8] + k['k_dissoc_luxr2'] * U[9] + k['k_decay_luxr2'] * U[9] - k['k_assoc_CI2'] * U[20] * U[8] - k['k_dissoc_CI2'] * U[21] + k['k_dec_CI2'] * U[21]\n",
    "    dLux_PR_GFP_LuxR_AHL_2 = k['k_assoc_luxr2'] * U[7] * U[8] - k['k_dissoc_luxr2'] * U[9] - k['k_decay_luxr2'] * U[9] - k['k_assoc_CI2'] * U[20] * U[9] + k['k_dissoc_CI2'] * U[22] + k['k_dec_CI2'] * U[22]\n",
    "    dmRNA_GFP_RNAp = k['k1_xcribe_gfp'] * U[0] * U[9] + k['k1_xcribe_leak_gfp'] * U[0] * U[8] - k['k2_xcribe_gfp'] * U[10]\n",
    "    dmRNA_GFP = k['k2_xcribe_gfp'] * U[10] - k['k_dec_mrna_gfp'] * U[11] \n",
    "    dGFP_rRNA = k['k1_xlate_gfp'] * U[3] * U[11] - k['k2_xlate_gfp'] * U[12]\n",
    "    dGFP = k['k2_xlate_gfp'] * U[12] - k['k_dec_gfp'] * U[13]\n",
    "    dLux_PR_CI = - k['k_assoc_luxr2'] * U[7] * U[14] + k['k_dissoc_luxr2'] * U[15] + k['k_decay_luxr2'] * U[15]\n",
    "    dLux_PR_CI_LuxR_AHL_2 = k['k_assoc_luxr2'] * U[7] * U[14] - k['k_dissoc_luxr2'] * U[15] - k['k_decay_luxr2'] * U[15]\n",
    "    dmRNA_CI_RNAp = k['k1_xcribe_CI'] * U[0] * U[15] + k['k1_xcribe_CI'] * U[0] * U[14] - k['k2_xcribe_CI'] * U[16]\n",
    "    dmRNA_CI = k['k2_xcribe_CI'] * U[16] - k['k_dec_mrna_CI'] * U[17]\n",
    "    dCI_rRNA = k['k1_xlate_CI'] * U[3] * U[17] - k['k2_xlate_CI'] * U[18]\n",
    "    dCI = k['k2_xlate_CI'] * U[18] - k['k_dec_CI'] * U[19] - 2 * k['k_dim_CI'] * U[19] ** 2 + 2 * k['k_sngl_CI2'] * U[20]\n",
    "    dCI2 = k['k_dim_CI'] * U[19] ** 2 - k['k_sngl_CI2'] * U[20] - k['k_dec_CI2'] * U[20] - k['k_assoc_CI2'] * U[20] * U[8] + k['k_dissoc_CI2'] * U[21] - k['k_assoc_CI2'] * U[20] * U[9] + k['k_dissoc_CI2'] * U[22]\n",
    "    dLux_Pr_GFP_OR1 = k['k_assoc_CI2'] * U[20] * U[8] - k['k_dissoc_CI2'] * U[21] - k['k_dec_CI2'] * U[21] - k['k_assoc_luxr2'] * U[21] * U[7] + k['k_dissoc_luxr2'] * U[22]\n",
    "    dLux_Pr_GFP_LuxR_AH1_OR1 = k['k_assoc_CI2'] * U[20] * U[9] - k['k_dissoc_CI2'] * U[22] - k['k_dec_CI2'] * U[22] + k['k_assoc_luxr2'] * U[21] * U[7] - k['k_dissoc_luxr2'] * U[22] - k['k_dec_luxr2'] * U[22]\n",
    "    \n",
    "    dudt = [dRNAp,\n",
    "           dmRNA_Lux_RNAp,\n",
    "           dmRNA_Lux_R,\n",
    "           drRNA,\n",
    "           dLuxR_rRNA,\n",
    "           dLuxR,\n",
    "           dAHL,\n",
    "           dLuxR_AHL_2,\n",
    "           dLux_PR_GFP,\n",
    "           dLux_PR_GFP_LuxR_AHL_2,\n",
    "           dmRNA_GFP_RNAp,\n",
    "           dmRNA_GFP,\n",
    "           dGFP_rRNA,\n",
    "           dGFP,\n",
    "           dLux_PR_CI,\n",
    "           dLux_PR_CI_LuxR_AHL_2,\n",
    "           dmRNA_CI_RNAp,\n",
    "           dmRNA_CI,\n",
    "           dCI_rRNA,\n",
    "           dCI,\n",
    "           dCI2,\n",
    "           dLux_Pr_GFP_OR1,\n",
    "           dLux_Pr_GFP_LuxR_AH1_OR1]\n",
    "    \n",
    "    return dudt\n",
    "    \n",
    "    \n",
    "    \n",
    "initial_U = np.zeros(23)\n",
    "t = np.arange(0, 60, 1)\n",
    "P_Ltet0_1 = 10\n",
    "values = integrate.odeint(pulse_response_ode, initial_U, t, args=(P_Ltet0_1,))\n",
    "    \n",
    "    \n",
    "    "
   ]
  },
  {
   "cell_type": "code",
   "execution_count": 24,
   "id": "9beca83c",
   "metadata": {},
   "outputs": [
    {
     "data": {
      "text/plain": [
       "[<matplotlib.lines.Line2D at 0x7ff290649400>]"
      ]
     },
     "execution_count": 24,
     "metadata": {},
     "output_type": "execute_result"
    },
    {
     "data": {
      "image/png": "[encoded data removed]",
      "text/plain": [
       "<Figure size 432x288 with 1 Axes>"
      ]
     },
     "metadata": {
      "needs_background": "light"
     },
     "output_type": "display_data"
    }
   ],
   "source": [
    "from matplotlib import pyplot as plt\n",
    "\n",
    "plt.plot(t, values[:,13])"
   ]
  },
  {
   "cell_type": "code",
   "execution_count": null,
   "id": "36b2dc1f",
   "metadata": {},
   "outputs": [],
   "source": []
  }
 ],
 "metadata": {
  "kernelspec": {
   "display_name": "Python 3 (ipykernel)",
   "language": "python",
   "name": "python3"
  },
  "language_info": {
   "codemirror_mode": {
    "name": "ipython",
    "version": 3
   },
   "file_extension": ".py",
   "mimetype": "text/x-python",
   "name": "python",
   "nbconvert_exporter": "python",
   "pygments_lexer": "ipython3",
   "version": "3.9.6"
  }
 },
 "nbformat": 4,
 "nbformat_minor": 5
}
