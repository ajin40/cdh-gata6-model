{
 "cells": [
  {
   "cell_type": "code",
   "execution_count": 1,
   "id": "f2fb3c1e",
   "metadata": {},
   "outputs": [
    {
     "ename": "SyntaxError",
     "evalue": "invalid syntax (2386536520.py, line 48)",
     "output_type": "error",
     "traceback": [
      "\u001b[1;36m  Cell \u001b[1;32mIn[1], line 48\u001b[1;36m\u001b[0m\n\u001b[1;33m    a1, a2, a3 = parameters[]\u001b[0m\n\u001b[1;37m                            ^\u001b[0m\n\u001b[1;31mSyntaxError\u001b[0m\u001b[1;31m:\u001b[0m invalid syntax\n"
     ]
    }
   ],
   "source": [
    "import numpy as np\n",
    "from scipy import integrate\n",
    "from matplotlib import pyplot as plt\n",
    "from matplotlib.legend_handler import HandlerLine2D\n",
    "\n",
    "\n",
    "'''\n",
    "NANOG-GATA6-FOXA2-FOXF1 MODEL with separated protein and rna\n",
    "Model C V1: Add 2 I1-FFLs to regulate FOXF1 and FOXA2 production. I1-FFLs are \"pulse generators\" that differentially respond to\n",
    "different production rates.\n",
    "In this system, FOXF1 is activated at at low GATA6 and inhibited at high GATA6 via a noncompetitive inhibition function,\n",
    "FOXA2 is activated by GATA6\n",
    "We observe few differences in dgata6 due to the dominating hill-like equation in the system\n",
    "'''\n",
    "\n",
    "def dnanog_rna(nanog, NANOG, GATA6, a1, a2, a3, n, m, KM_NN, KM_GN):\n",
    "    return (a1 * NANOG ** n)/(KM_NN ** n + NANOG ** n) * (a2 * KM_GN ** m)/(KM_GN ** m + GATA6 ** m) - a3 * nanog\n",
    "\n",
    "def dgata6_rna(gata6, NANOG, GATA6, dox, p, a1, a2, a3, n, m, KM_GG, KM_NG):\n",
    "    return dox * p + (a1 * GATA6 ** n)/(KM_GG ** n + GATA6 ** n) * (a2 * KM_NG ** m)/(KM_NG ** m + NANOG ** m) - a3 * gata6\n",
    "\n",
    "def dy1_rna(y1, GATA6, a0, a1, n, KM_G):\n",
    "    return (a1 * GATA6 ** n)/(KM_G ** n + GATA6 ** n) - a2 * y1\n",
    "\n",
    "def dfoxa2_rna(foxa2, GATA6, Y1, a1, a2, a3, KM_G, KM_Y, n, m):\n",
    "    return (a1 * GATA6 ** n)/(KM_G ** n + GATA6 **n) * (a2 * KM_Y ** m) / (KM_Y ** n + Y1 ** m) - a3 * foxa2\n",
    "\n",
    "def dY1(Y1, y1, a1, a2):\n",
    "    return a1 * y1 - a2 * Y1\n",
    "\n",
    "def dfoxf1_rna(foxf1, GATA6, Y1, a1, a2, a3, KM_G, KM_Y, n, m):\n",
    "    return (a1 * GATA6 ** n)/(KM_G ** n + GATA6 **n) * (a2 * KM_Y ** m) / (KM_Y ** n + Y1 ** m) - a3 * foxf1\n",
    "\n",
    "def dFOXF1(FOXF1, foxf1, a1, a2):\n",
    "    return a1 * foxf1 - a2 * FOXF1\n",
    "\n",
    "def dNANOG(NANOG, nanog, a1, a2):\n",
    "    return a1 * nanog - a2 * NANOG\n",
    "\n",
    "def dGATA6(GATA6, gata6, a1, a2):\n",
    "    return a1 * gata6 - a2 * GATA6\n",
    "\n",
    "def dFOXA2(FOXA2, foxa2, a1, a2):\n",
    "    return a1 * foxa2 - a2 * FOXA2\n",
    "\n",
    "def dudt(U, t, dox, p, parameters):\n",
    "    \"\"\"\n",
    "    TO DO: Figure out if we should do a reduction of parameters in our system for analysis\n",
    "    \"\"\"\n",
    "    nanog, gata6, y1, foxa2, foxf1, NANOG, GATA6, Y1, FOXA2, FOXF1 = U\n",
    "    a1, a2, a3, an, am, KM_NN, KM_GN = parameters['nanog_rna']\n",
    "    b1, b2, b3, bn, bm, KM_GG, KM_NG = parameters['gata6_rna']\n",
    "    c1, c2, c3, cn, KM_GY = parameters['y1_rna']\n",
    "    d1, d2, d3, dn, dm, KM_G2, KM_Y2 = parameters['foxa2_rna']\n",
    "    e1, e2, e3, en, em, KM_G1, KM_Y1 = parameters['foxf1_rna']\n",
    "    \n",
    "    y1_translation_rate, y1_degradation_rate = parameters('Y1_prot')\n",
    "    A2_translation_rate, A2_degradation_rate = parameters('A2_prot')\n",
    "    A1_translation_rate, A1_degradation_rate = parameters('A1_prot')\n",
    "    translation_rate, protein_degradation_rate = [0.167, 0.125]\n",
    "    \n",
    "    d = 0\n",
    "    if t > 12:\n",
    "        d = dox\n",
    "    dnanog_dt = dnanog_rna(nanog, NANOG, GATA6, a1, a2, a3, an, am, KM_NN, KM_GN)    \n",
    "    dNANOG_dt = dNANOG(NANOG, nanog, translation_rate, protein_degradation_rate)\n",
    "    dgata6_dt = dgata6_rna(gata6, NANOG, GATA6, d, p, b1, b2, b3, bn, bm, KM_GG, KM_NG)\n",
    "    dGATA6_dt = dGATA6(GATA6, gata6, translation_rate, protein_degradation_rate)\n",
    "    dy1_dt = dy1_rna (y1, GATA6, c1, c2, cn, KM_GY)\n",
    "    dY1_dt = dY1(Y1, y1, y1_translation_rate, y1_degradation_rate)\n",
    "    dfoxa2_dt = dfoxa2_rna(foxa2, GATA6, Y1, d1, d2, d3, KM_G2, KM_Y2, dn, dm)\n",
    "    dFOXA2_dt = dFOXA2(FOXA2, foxa2, A2_translation_rate, A2_protein_degradation_rate)\n",
    "    dfoxf1_dt = dfoxf1_rna(foxf1, GATA6, Y1, e1, e2, e3, KM_G1, KM_G1, en, em)\n",
    "    dFOXF1_dt = dFOXF1(FOXF1, foxf1, F1_translation_rate, F1_protein_degradation_rate)\n",
    "    return dnanog_dt, dgata6_dt, dy1_dt, dfoxa2_dt, dfoxf1_dt, dNANOG_dt, dGATA6_dt, dY1_dt, dFOXA2_dt, dFOXF1_dt\n",
    "\n",
    "\n",
    "parameters = {}\n",
    "parameters['nanog_rna'] = []\n",
    "a0 = 3\n",
    "b0 = 3\n",
    "a1 = 4\n",
    "b1 = 4\n",
    "a2 = 4\n",
    "b2 = 4\n",
    "a3 = 0.5\n",
    "b3 = 0.5\n",
    "KM_NN, KM_GN, KM_GG, KM_NG, KM_11, KM_22, KM_12, KM_21 = [5, 5, 5, 5, 5, 5, 5, 5]\n",
    "KM_G1, KM_G2, KM_GI = [55, 55, 70]\n",
    "n = m = 4\n",
    "gata6_n = 8\n",
    "fox_n = 2\n",
    "\n",
    "protein_degradation_rate = 0.125\n",
    "translation_rate = 0.167"
   ]
  },
  {
   "cell_type": "code",
   "execution_count": 4,
   "id": "1352abb8",
   "metadata": {},
   "outputs": [
    {
     "data": {
      "text/plain": [
       "[0, 1, 2]"
      ]
     },
     "execution_count": 4,
     "metadata": {},
     "output_type": "execute_result"
    }
   ],
   "source": [
    "parameters = {\n",
    "    'nanog': [0, 1, 2]\n",
    "}\n",
    "parameters['nanog']"
   ]
  },
  {
   "cell_type": "code",
   "execution_count": null,
   "id": "a2ca5baa",
   "metadata": {},
   "outputs": [],
   "source": []
  }
 ],
 "metadata": {
  "kernelspec": {
   "display_name": "Python 3 (ipykernel)",
   "language": "python",
   "name": "python3"
  },
  "language_info": {
   "codemirror_mode": {
    "name": "ipython",
    "version": 3
   },
   "file_extension": ".py",
   "mimetype": "text/x-python",
   "name": "python",
   "nbconvert_exporter": "python",
   "pygments_lexer": "ipython3",
   "version": "3.11.3"
  }
 },
 "nbformat": 4,
 "nbformat_minor": 5
}
