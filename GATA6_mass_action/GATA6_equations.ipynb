{
 "cells": [
  {
   "cell_type": "code",
   "execution_count": 75,
   "metadata": {},
   "outputs": [
    {
     "name": "stdout",
     "output_type": "stream",
     "text": [
      "[0. 0. 0. 0. 2. 2. 0. 0. 0. 0. 0. 0. 0. 0. 0. 0.]\n",
      "[7.61207408e-09 1.53832036e-08 4.22620596e-15 8.51611113e-15\n",
      " 1.98512691e+00 1.97036075e+00 1.38116866e-02 2.63483735e-02\n",
      " 9.93773801e-04 3.16408545e-03 7.08637510e-23 4.55972316e-22\n",
      " 3.23270592e-42 4.19388840e-41 4.21756864e-17 1.04264004e-18]\n"
     ]
    }
   ],
   "source": [
    "import numpy as np\n",
    "import scipy.integrate\n",
    "\n",
    "def RHS(X, t, GATA6, foxa2_trs, foxf1_trs, pFOXA2_params, pFOXF1_params):\n",
    "    dX = np.zeros(len(X))\n",
    "    dX[0] = dmrna(X[0], X[4], X[6], X[8], X[10], X[12], foxa2_trs[0], foxa2_trs[1], foxa2_trs[2], foxa2_trs[3], foxa2_trs[4], beta=np.log(2) / 120.)\n",
    "    dX[1] = dmrna(X[1], X[5], X[7], X[9], X[11], X[13], foxf1_trs[0], foxf1_trs[1], foxf1_trs[2], foxf1_trs[3], foxf1_trs[4], beta=np.log(2) / 120.)\n",
    "    dX[2] = dPROT(X[2], X[0], a=0.0167, b=np.log(2) / 600.)\n",
    "    dX[3] = dPROT(X[3], X[1], a=0.0167, b=np.log(2) / 600.)\n",
    "    dX[4] = dp0(X[4], X[6], X[14], GATA6, X[3], pFOXA2_params[0], pFOXA2_params[1], pFOXA2_params[8], pFOXA2_params[9])\n",
    "    dX[5] = dp0(X[5], X[7], X[15], GATA6, X[2], pFOXF1_params[0], pFOXF1_params[1], pFOXF1_params[8], pFOXF1_params[9])\n",
    "    dX[6] = dp1(X[6], X[4], X[8], GATA6, pFOXA2_params[0], pFOXA2_params[1], pFOXA2_params[2], pFOXA2_params[3])\n",
    "    dX[7] = dp1(X[7], X[5], X[9], GATA6, pFOXF1_params[0], pFOXF1_params[1], pFOXF1_params[2], pFOXF1_params[3])\n",
    "    dX[8] = dp2(X[8], X[6], X[10], GATA6, X[2], pFOXA2_params[2], pFOXA2_params[3], pFOXA2_params[4], pFOXA2_params[5])\n",
    "    dX[9] = dp2(X[9], X[7], X[11], GATA6, X[3], pFOXF1_params[2], pFOXF1_params[3], pFOXF1_params[4], pFOXF1_params[5])\n",
    "    dX[10] = dp3(X[10], X[8], X[12], X[2], pFOXA2_params[4], pFOXA2_params[5], pFOXA2_params[6], pFOXA2_params[7])\n",
    "    dX[11] = dp3(X[11], X[9], X[13], X[3], pFOXF1_params[4], pFOXF1_params[5], pFOXF1_params[6], pFOXF1_params[7])\n",
    "    dX[12] = dp4(X[12], X[10], X[2], pFOXA2_params[6], pFOXA2_params[7])\n",
    "    dX[13] = dp4(X[13], X[11], X[3], pFOXF1_params[6], pFOXF1_params[7])\n",
    "    dX[14] = dpi(X[14], X[4], X[3], pFOXA2_params[8], pFOXA2_params[9])\n",
    "    dX[15] = dpi(X[15], X[5], X[2], pFOXF1_params[8], pFOXF1_params[9])\n",
    "    return dX\n",
    "\n",
    "def dmrna(mrna, p0, p1, p2, p3, p4, a0, a1, a2, a3, a4, beta):\n",
    "    return a0 * p0 + a1 * p1 + a2 * p2 + a3 * p3 + a4 * p4 - beta * mrna\n",
    "\n",
    "def dPROT(PROT, mrna, a, b):\n",
    "    return a * mrna - b * PROT\n",
    "\n",
    "def dp0(p0, p1, pinh, PROT, INH, k1f, k1r, kif, kir):\n",
    "    return k1r * p1 + kir * pinh - k1f * p0 * PROT - kif * p0 * INH\n",
    "\n",
    "def dp1(p1, p0, p2, PROT, k1f, k1r, k2f, k2r):\n",
    "    return k1f * p0 * PROT + k2r * p2 - k2f * p1 * PROT - k1r * p1\n",
    "\n",
    "def dp2(p2, p1, p3, PROT, PROT2, k2f, k2r, k3f, k3r):\n",
    "    return k2f * p1 * PROT + k3r * p3 - k3f * p2 * PROT2 - k2r * p1 \n",
    "\n",
    "def dp3(p3, p2, p4, PROT, k3f, k3r, k4f, k4r):\n",
    "    return k3f * p2 * PROT + k4r * p4 - k4f * p3 * PROT - k3r * p3\n",
    "\n",
    "def dp4(p4, p3, PROT, k4f, k4r):\n",
    "    return k4f * p3 * PROT - k4r * p4\n",
    "\n",
    "def dpi(pi, p0, PROT, kif, kir):\n",
    "    return kif * p0 * PROT - kir * pi\n",
    "\n",
    "# 0, 1 = mRNA\n",
    "# 2, 3 = prot\n",
    "# 4, 5 = p0\n",
    "# 6, 7 = p1\n",
    "# 8, 9 = p2\n",
    "# 10, 11 = p3\n",
    "# 12, 13 = p4\n",
    "# 14, 15 = pinh\n",
    "X = np.zeros(16)\n",
    "X[4] = 2\n",
    "X[5] = 2\n",
    "foxa2_trs = [5e-8, 0.01, 0.015, 0.05, 0.1] # 5 transcription factor rates\n",
    "foxf1_trs = [5e-8, 0.01, 0.015, 0.025, 0.05] # 5 transcription factor rates\n",
    "pFOXA2_params = [0.025, 100, 0.5, 100, 1, 100, 1, 100, 100, 20] # 10 state change params\n",
    "pFOXF1_params = [0.050, 100, 0.8, 100, 1, 100, 1, 100, 5.0, 1.] # 10 state change params\n",
    "GATA6 = 3000\n",
    "t = np.arange(0, 1000, 0.0001)\n",
    "print(X)\n",
    "sol = scipy.integrate.odeint(RHS, X, t, args=(GATA6, foxa2_trs, foxf1_trs, pFOXA2_params, pFOXF1_params,))\n",
    "print(sol[1, :])"
   ]
  },
  {
   "cell_type": "code",
   "execution_count": 77,
   "metadata": {},
   "outputs": [
    {
     "data": {
      "text/plain": [
       "(0.0, 2.0)"
      ]
     },
     "execution_count": 77,
     "metadata": {},
     "output_type": "execute_result"
    },
    {
     "data": {
      "image/png": "[encoded data removed]",
      "text/plain": [
       "<Figure size 432x288 with 1 Axes>"
      ]
     },
     "metadata": {
      "needs_background": "light"
     },
     "output_type": "display_data"
    }
   ],
   "source": [
    "from matplotlib import pyplot as plt\n",
    "\n",
    "plt.plot(t, sol[:, 4])\n",
    "plt.plot(t, sol[:, 5])\n",
    "plt.xlim([0, 2])"
   ]
  },
  {
   "cell_type": "code",
   "execution_count": null,
   "metadata": {},
   "outputs": [],
   "source": []
  }
 ],
 "metadata": {
  "kernelspec": {
   "display_name": "base",
   "language": "python",
   "name": "python3"
  },
  "language_info": {
   "codemirror_mode": {
    "name": "ipython",
    "version": 3
   },
   "file_extension": ".py",
   "mimetype": "text/x-python",
   "name": "python",
   "nbconvert_exporter": "python",
   "pygments_lexer": "ipython3",
   "version": "3.8.5"
  }
 },
 "nbformat": 4,
 "nbformat_minor": 2
}
