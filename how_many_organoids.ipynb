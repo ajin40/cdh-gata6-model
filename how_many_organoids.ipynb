{
 "cells": [
  {
   "cell_type": "code",
   "execution_count": 53,
   "metadata": {},
   "outputs": [],
   "source": [
    "import numpy as np\n",
    "\n",
    "organoid_radius = 5\n",
    "well_radius = 100\n",
    "num_organoids = 100\n",
    "\n",
    "def place_organoids(well_radius, organoid_radius, num_organoids):\n",
    "    r = np.random.uniform(-well_radius + organoid_radius, well_radius - organoid_radius, num_organoids).reshape((num_organoids, 1))\n",
    "    theta = np.random.uniform(0, 2 * np.pi, num_organoids).reshape((num_organoids, 1))\n",
    "    x = r*np.cos(theta)\n",
    "    y = r*np.sin(theta)\n",
    "    return np.hstack((x, y))\n",
    "\n",
    "def check_overlap(locs, organoid_radius):\n",
    "    num_overlaps = np.zeros(len(locs))\n",
    "    for i in range(len(locs)):\n",
    "        curr = locs[i]\n",
    "        compare = locs[i] - locs[i+1:]\n",
    "        dist = np.linalg.norm(compare, axis=1)\n",
    "        overlap = dist < organoid_radius\n",
    "        num_overlaps[i] = sum(overlap)\n",
    "    return sum(num_overlaps)"
   ]
  },
  {
   "cell_type": "code",
   "execution_count": 54,
   "metadata": {},
   "outputs": [
    {
     "name": "stdout",
     "output_type": "stream",
     "text": [
      "27.0\n"
     ]
    }
   ],
   "source": [
    "locs = place_organoids(well_radius, organoid_radius, num_organoids)\n",
    "print(check_overlap(locs, organoid_radius))"
   ]
  },
  {
   "cell_type": "code",
   "execution_count": null,
   "metadata": {},
   "outputs": [],
   "source": []
  }
 ],
 "metadata": {
  "kernelspec": {
   "display_name": "base",
   "language": "python",
   "name": "python3"
  },
  "language_info": {
   "codemirror_mode": {
    "name": "ipython",
    "version": 3
   },
   "file_extension": ".py",
   "mimetype": "text/x-python",
   "name": "python",
   "nbconvert_exporter": "python",
   "pygments_lexer": "ipython3",
   "version": "3.11.3"
  }
 },
 "nbformat": 4,
 "nbformat_minor": 2
}
