{
  "nbformat": 4,
  "nbformat_minor": 0,
  "metadata": {
    "colab": {
      "provenance": []
    },
    "kernelspec": {
      "name": "python3",
      "display_name": "Python 3"
    },
    "language_info": {
      "name": "python"
    }
  },
  "cells": [
    {
      "cell_type": "code",
      "execution_count": 24,
      "metadata": {
        "id": "f_WF330mVzJo"
      },
      "outputs": [],
      "source": [
        "\"\"\"\n",
        "StochasticCells runs a simple homodimerization reaction for a small total number\n",
        "of molecules N, comparing the approximate continuum dynamics with the true\n",
        "stochastic dynamics.\n",
        "\n",
        "You need to complete the following functions to get results\n",
        "    ** StochasticTrajectory\n",
        "    ** PlotODEVsStochastic\n",
        "\"\"\"\n",
        "\n",
        "import scipy\n",
        "import pylab\n",
        "\n",
        "\"\"\"Global values of rate constants\"\"\"\n",
        "kb = 1.0\n",
        "ku = 2.0\n",
        "\n",
        "def dydt(y, t):\n",
        "    \"\"\"\n",
        "    Gives the time evolution law dydt for y = [M,D], in the form needed by\n",
        "    odeint\n",
        "    \"\"\"\n",
        "    M = y[0]\n",
        "    D = y[1]\n",
        "    dMdt = -2 * kb * M**2 + 2 * ku * D\n",
        "    dDdt = -ku * D + kb * M**2\n",
        "    return [dMdt, dDdt]\n",
        "\n",
        "\n",
        "def PlotODE(N, tMax=1.0, dt=0.01):\n",
        "    \"\"\"Plots the continuum time evolution of M(t), given N total\n",
        "    monomer molecules and no dimer molecules at time t=0.\n",
        "    Uses scipy.arange to produce an array of times; calls\n",
        "    scipy.integrate.odeint(dydt, y0, times) to get yTrajectory\n",
        "    M(t) is first column of yTrajectory = yTrajectory[:,0]\n",
        "    uses pylab.plot to plot times versus M(t)\n",
        "    \"\"\"\n",
        "    y0 = [N, 0.0]\n",
        "    eps = 1.e-10\n",
        "    times = scipy.arange(0.0, tMax + eps, dt)\n",
        "    yTrajectory = scipy.integrate.odeint(dydt, y0, times)\n",
        "    pylab.plot(times, yTrajectory[:, 0])\n",
        "    pylab.show()\n",
        "\n",
        "\n",
        "def StochasticTrajectory(N, tMax=10.0):\n",
        "    \"\"\"\n",
        "    Implements the Gillespie algorithm, as described in the text. If\n",
        "        t1, t2, t3, ..., tFinal\n",
        "    are the resulting reaction times and\n",
        "        M1, M2, M3, ..., MFinal\n",
        "    are the number of monomers just after each reaction, the routine returns\n",
        "    an array\n",
        "        times = [0.0, t1, t1, t2, t2, ..., tFinal, tMax]\n",
        "    and an array\n",
        "        Ms = [N, N, M1, M1, M2, M2, ..., MFinal, MFinal]\n",
        "    (suitable for plotting, since the concentration M(t) = M_n between t_n and\n",
        "    t_{n+1}, and then abruptly jumps to M_{n+1}). This is easy to do:\n",
        "    initialize them at t=0, append just before and just after each\n",
        "    reaction, and add a point at t=tMax.\n",
        "\n",
        "    To generate tWait:\n",
        "        Use scipy.stats to generate a random number with an\n",
        "        exponential distribution of mean 1/gammaTot. This is twait.  \n",
        "        twait = scipy.stats.expon.rvs(scale=1.0 / gammaTot, size=1)[0]\n",
        "    To generate r: \n",
        "      generate a random number distributed uniformly between 0 an 1 \n",
        "      (e.g. use: scipy.stats.uniform.rvs(size=1)[0]). Multiply that number by gammaTot.\n",
        "    \n",
        "    Notice that, since there are only two reactions, you can just check if\n",
        "    r > bindingRate to see if you want to bind or unbind.\n",
        "    \"\"\"\n",
        "    t = 0.0\n",
        "    times = [t]\n",
        "    M = N\n",
        "    D = 0\n",
        "    Ms = [M]\n",
        "    while True:\n",
        "      bindingRate = kb * M * (M-1)\n",
        "      unbindingRate = ku * D\n",
        "      gammaTot = bindingRate + unbindingRate\n",
        "      tWait = scipy.stats.expon.rvs(scale=1.0/gammaTot, size=1)[0]\n",
        "      if t + tWait > tMax:\n",
        "        times.append(tMax)\n",
        "        Ms.append(M)\n",
        "        return times, Ms\n",
        "      t += tWait\n",
        "      r = gammaTot * scipy.stats.uniform.rvs(size=1)\n",
        "      times.append(t)\n",
        "      Ms.append(M)\n",
        "      if r < bindingRate:\n",
        "        M -= 2\n",
        "        D += 1\n",
        "      else:\n",
        "        M += 2\n",
        "        D -= 1\n",
        "      times.append(t)\n",
        "      Ms.append(M) #we're adding these twice for visualization\n",
        "    \n",
        "\n",
        "def PlotODEVsStochastic(N, tMax=1.0, dt=0.01):\n",
        "    \"\"\"Plots the continuum time evolution of M(t) versus\n",
        "    the stochastic trajectory given by the Gillespie algorithm.\n",
        "    Again, N total monomer molecules and no dimer molecules at time t=0.\n",
        "    \"\"\"\n",
        "    y0 = [N, 0]\n",
        "    eps = 1.e-10\n",
        "    ODEtimes = scipy.arange(0.0, tMax+eps, dt)\n",
        "    yTrajectory = scipy.integrate.odeint(dydt, y0, ODEtimes)\n",
        "    pylab.plot(ODEtimes, yTrajectory[:,0])\n",
        "\n",
        "    stochasticTimes, stochasticNs = StochasticTrajectory(N, tMax)\n",
        "    pylab.plot(stochasticTimes, stochasticNs)\n",
        "    pylab.show()\n",
        "\n",
        "\n",
        "def PlotODEVsAverageStochastic(N, nAverage, tMax=1.0, dt=0.001):\n",
        "    \"\"\"Plots the continuum time evolution of M(t) versus\n",
        "    the average of nAverage stochastic trajectories.\n",
        "    Computes the stochastic averages at the same\n",
        "        times = (dt, 2 dt, ...)\n",
        "    that odeint uses (except for zero).\n",
        "    The stochastic simulation returns values at irregular times: how\n",
        "    can we evaluate M at regular intervals? We can find the stochastic\n",
        "    interval\n",
        "      [stochasticTimes[indexStochastic], stochasticTimes[indexStochastic+1])\n",
        "    containing time[index] by searching forward from the previous interval,\n",
        "    something like this:\n",
        "        ...\n",
        "        indexStochastic = 0\n",
        "        for index in range(len(times)):\n",
        "            while (indexStochastic < len(stochasticTimes)) \\\n",
        "                   & (stochasticTimes[indexStochastic+1] < times[index]):\n",
        "                indexStochastic+=1\n",
        "            (add stochastic M[indexStochastic] to total M[index]...)\n",
        "    \"\"\"\n",
        "    y0 = [N, 0.0]\n",
        "    eps = 1.e-10\n",
        "    times = scipy.arange(dt, tMax + eps, dt)\n",
        "    yTrajectory = scipy.integrate.odeint(dydt, y0, times)\n",
        "    pylab.plot(times, yTrajectory[:, 0])\n",
        "    #\n",
        "    totalMs = scipy.zeros(len(times), float)\n",
        "    for i in range(nAverage):\n",
        "        stochasticTimes, stochasticMs = StochasticTrajectory(N, tMax)\n",
        "        indexStochastic = 0\n",
        "        for index in range(len(times)):\n",
        "            while (indexStochastic < len(stochasticTimes)) \\\n",
        "                    & (stochasticTimes[indexStochastic + 1] < times[index]):\n",
        "                indexStochastic += 1\n",
        "            totalMs[index] += stochasticMs[indexStochastic]\n",
        "    pylab.plot(times, totalMs / nAverage)\n",
        "    pylab.show()\n",
        "\n"
      ]
    },
    {
      "cell_type": "code",
      "source": [
        "print('ODE vs Stochastic....')\n",
        "PlotODEVsStochastic(10, tMax = 1.0, dt = 0.01)\n",
        "PlotODEVsStochastic(100, tMax = 1.0, dt = 0.01)\n",
        "PlotODEVsStochastic(1000, tMax = 1.0, dt = 0.01)"
      ],
      "metadata": {
        "colab": {
          "base_uri": "https://localhost:8080/",
          "height": 815
        },
        "id": "PehDrjIkDGS0",
        "outputId": "b09f111e-3f69-4a3d-bc62-7473cbc64383"
      },
      "execution_count": 25,
      "outputs": [
        {
          "output_type": "stream",
          "name": "stdout",
          "text": [
            "ODE vs Stochastic....\n"
          ]
        },
        {
          "output_type": "stream",
          "name": "stderr",
          "text": [
            "<ipython-input-24-fe808edfe716>:108: DeprecationWarning: scipy.arange is deprecated and will be removed in SciPy 2.0.0, use numpy.arange instead\n",
            "  ODEtimes = scipy.arange(0.0, tMax+eps, dt)\n"
          ]
        },
        {
          "output_type": "display_data",
          "data": {
            "text/plain": [
              "<Figure size 432x288 with 1 Axes>"
            ],
            "image/png": "[encoded data removed]"
          },
          "metadata": {
            "needs_background": "light"
          }
        },
        {
          "output_type": "display_data",
          "data": {
            "text/plain": [
              "<Figure size 432x288 with 1 Axes>"
            ],
            "image/png": "[encoded data removed]"
          },
          "metadata": {
            "needs_background": "light"
          }
        },
        {
          "output_type": "display_data",
          "data": {
            "text/plain": [
              "<Figure size 432x288 with 1 Axes>"
            ],
            "image/png": "[encoded data removed]"
          },
          "metadata": {
            "needs_background": "light"
          }
        }
      ]
    },
    {
      "cell_type": "code",
      "source": [],
      "metadata": {
        "id": "BZDAbvHmDVhi"
      },
      "execution_count": null,
      "outputs": []
    }
  ]
}